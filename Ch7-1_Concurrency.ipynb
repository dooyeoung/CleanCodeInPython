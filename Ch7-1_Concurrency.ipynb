{
 "cells": [
  {
   "cell_type": "markdown",
   "metadata": {},
   "source": [
    "# Async programming"
   ]
  },
  {
   "cell_type": "markdown",
   "metadata": {},
   "source": [
    "## I/O 대기\n",
    "+ CPU 클럭의 속도가 1초라고 가정했을 때\n",
    "+ RAM은 20초, SSD는 4일, HDD 6개월, 네트워크 전송은?"
   ]
  },
  {
   "cell_type": "markdown",
   "metadata": {},
   "source": [
    "## 동시성\n",
    "+ 여러 개의 요청을 동시에 다룰 수 있는 시스템을 구현하는 방식\n",
    "+ 아래는 동기식으로 구현된 기본 함수"
   ]
  },
  {
   "cell_type": "code",
   "execution_count": 1,
   "metadata": {},
   "outputs": [
    {
     "name": "stdout",
     "output_type": "stream",
     "text": [
      "[1.00106335s] fetch_square(0, ) -> 0\n",
      "[1.00108242s] fetch_square(1, ) -> 1\n",
      "[1.00107408s] fetch_square(2, ) -> 4\n",
      "[1.00107789s] fetch_square(3, ) -> 9\n",
      "[1.00108576s] fetch_square(4, ) -> 16\n",
      "[1.00108337s] fetch_square(5, ) -> 25\n",
      "[1.00105596s] fetch_square(6, ) -> 36\n",
      "[1.00109434s] fetch_square(7, ) -> 49\n",
      "[1.00107479s] fetch_square(8, ) -> 64\n",
      "[1.00108171s] fetch_square(9, ) -> 81\n",
      "Total: 10.012474536895752 sec\n"
     ]
    }
   ],
   "source": [
    "import time \n",
    "import functools\n",
    "\n",
    "\n",
    "DEFAULT_FMT = '[{elapsed:0.8f}s] {name}({args}, {kwargs}) -> {result}'\n",
    "\n",
    "def clock(fmt=DEFAULT_FMT): \n",
    "    def decorate(func): \n",
    "        @functools.wraps(func)\n",
    "        def clocked(*_args, **_kwargs): # clocked에서 *, ** 키워드를 통해 설정된 인수를 변수화\n",
    "            t0 = time.time()\n",
    "            _result = func(*_args)\n",
    "            elapsed = time.time() - t0\n",
    "            name = func.__name__\n",
    "            args = ', '.join(repr(arg) for arg in _args)\n",
    "            pairs = ['%s=%r' % (k, w) for k, w in sorted(_kwargs.items())]\n",
    "            kwargs = ', '.join(pairs)\n",
    "            result = repr(_result)\n",
    "            print(fmt.format(**locals()))\n",
    "            return _result # clocked()는 데커레이트된 함수를 대체하므로, 원래 함수가 반환하는 값을 반환해야 한다.\n",
    "        return clocked     # decorate()는 clocked()를 반환한다. \n",
    "    return decorate        # clock()은 decorate()를 반환한다. \n",
    "\n",
    "\n",
    "def network_request(number):\n",
    "    time.sleep(1.0)\n",
    "    return {\"success\": True, \"result\": number ** 2}\n",
    "\n",
    "\n",
    "@clock()\n",
    "def fetch_square(number):\n",
    "    response = network_request(number)\n",
    "    if response[\"success\"]:\n",
    "        return response[\"result\"]\n",
    "\n",
    "        \n",
    "if __name__ == \"__main__\":\n",
    "    t0 = time.time()\n",
    "\n",
    "    returns = [fetch_square(i) for i in range(10)]\n",
    "    \n",
    "    elapsed = time.time() - t0\n",
    "    print(\"Total:\", elapsed, \"sec\")"
   ]
  },
  {
   "cell_type": "markdown",
   "metadata": {},
   "source": [
    "### Callback\n",
    "\n",
    "+ 원리만 이해하고 복잡하니 쓰지 말자"
   ]
  },
  {
   "cell_type": "code",
   "execution_count": 2,
   "metadata": {},
   "outputs": [],
   "source": [
    "import threading\n",
    "\n",
    "\n",
    "def network_request_async(number, on_done):\n",
    "    \n",
    "    def timer_done():\n",
    "        time.sleep(1.0)\n",
    "        on_done({\"success\": True, \"result\": number ** 2})\n",
    "\n",
    "    timer = threading.Thread(target=timer_done, args=[])\n",
    "    timer.start()\n",
    "    \n",
    "    \n",
    "@clock()\n",
    "def fetch_square_async(number):\n",
    "    \n",
    "    def on_done(response):\n",
    "        if response[\"success\"]:\n",
    "            return response[\"result\"]\n",
    "        \n",
    "    network_request_async(number, on_done)"
   ]
  },
  {
   "cell_type": "code",
   "execution_count": 3,
   "metadata": {},
   "outputs": [
    {
     "name": "stdout",
     "output_type": "stream",
     "text": [
      "[0.00020146s] fetch_square_async(0, ) -> None\n",
      "[0.00047803s] fetch_square_async(1, ) -> None\n",
      "[0.00028396s] fetch_square_async(2, ) -> None\n",
      "[0.00019121s] fetch_square_async(3, ) -> None\n",
      "[0.00026870s] fetch_square_async(4, ) -> None\n",
      "[0.00024271s] fetch_square_async(5, ) -> None\n",
      "[0.00013614s] fetch_square_async(6, ) -> None\n",
      "[0.00022125s] fetch_square_async(7, ) -> None\n",
      "[0.00043344s] fetch_square_async(8, ) -> None\n",
      "[0.00015450s] fetch_square_async(9, ) -> None\n",
      "Total: 0.003396749496459961 sec\n"
     ]
    }
   ],
   "source": [
    "if __name__ == \"__main__\":\n",
    "    t0 = time.time()\n",
    "\n",
    "    returns = [fetch_square_async(i) for i in range(10)]\n",
    "    \n",
    "    elapsed = time.time() - t0\n",
    "    print(\"Total:\", elapsed, \"sec\")"
   ]
  },
  {
   "cell_type": "markdown",
   "metadata": {},
   "source": [
    "### Future\n",
    "\n",
    "+ 요청한 자원을 추적하고 가용하게 될 때 까지 대기하는 데 도움이 되는 추상화"
   ]
  },
  {
   "cell_type": "code",
   "execution_count": 21,
   "metadata": {},
   "outputs": [],
   "source": [
    "from concurrent.futures import Future\n",
    "\n",
    "def callback(future):\n",
    "    print(future.result()[::-1])\n",
    "\n",
    "fut = Future()\n",
    "fut.add_done_callback(callback) "
   ]
  },
  {
   "cell_type": "code",
   "execution_count": 22,
   "metadata": {},
   "outputs": [
    {
     "data": {
      "text/plain": [
       "{'_condition': <Condition(<unlocked _thread.RLock object owner=0 count=0 at 0x7fc5b5fdab10>, 0)>,\n",
       " '_state': 'PENDING',\n",
       " '_result': None,\n",
       " '_exception': None,\n",
       " '_waiters': [],\n",
       " '_done_callbacks': [<function __main__.callback(future)>]}"
      ]
     },
     "execution_count": 22,
     "metadata": {},
     "output_type": "execute_result"
    }
   ],
   "source": [
    "vars(fut)"
   ]
  },
  {
   "cell_type": "code",
   "execution_count": 23,
   "metadata": {},
   "outputs": [
    {
     "name": "stdout",
     "output_type": "stream",
     "text": [
      "OLLEH\n"
     ]
    }
   ],
   "source": [
    "fut.set_result(\"HELLO\") ## 퓨쳐를 리턴함"
   ]
  },
  {
   "cell_type": "code",
   "execution_count": 24,
   "metadata": {},
   "outputs": [
    {
     "data": {
      "text/plain": [
       "{'_condition': <Condition(<unlocked _thread.RLock object owner=0 count=0 at 0x7fc5b5fdab10>, 0)>,\n",
       " '_state': 'FINISHED',\n",
       " '_result': 'HELLO',\n",
       " '_exception': None,\n",
       " '_waiters': [],\n",
       " '_done_callbacks': [<function __main__.callback(future)>]}"
      ]
     },
     "execution_count": 24,
     "metadata": {},
     "output_type": "execute_result"
    }
   ],
   "source": [
    "vars(fut)"
   ]
  },
  {
   "cell_type": "markdown",
   "metadata": {},
   "source": [
    "+ network_request_async"
   ]
  },
  {
   "cell_type": "code",
   "execution_count": 52,
   "metadata": {},
   "outputs": [],
   "source": [
    "def network_reqeust_async(number):\n",
    "    future = Future()\n",
    "    result = {\"success\": True, \"result\": number ** 2}\n",
    "    timer = threading.Timer(1.0, lambda: future.set_result(result))\n",
    "    timer.start()\n",
    "    return future\n",
    "\n",
    "\n",
    "@clock()\n",
    "def fetch_square_async(number):\n",
    "    fut = network_reqeust_async(number)\n",
    "\n",
    "    def on_done_future(future):\n",
    "        response = future.result()\n",
    "        if response[\"success\"]:\n",
    "#             return response[\"result\"]\n",
    "            print(response[\"result\"], flush=True)        \n",
    "        \n",
    "    fut.add_done_callback(on_done_future)"
   ]
  },
  {
   "cell_type": "code",
   "execution_count": 53,
   "metadata": {},
   "outputs": [
    {
     "name": "stdout",
     "output_type": "stream",
     "text": [
      "[0.00039458s] fetch_square_async(0, ) -> None\n",
      "[0.00022340s] fetch_square_async(1, ) -> None\n",
      "[0.00046802s] fetch_square_async(2, ) -> None\n",
      "[0.00025463s] fetch_square_async(3, ) -> None\n",
      "[0.00025582s] fetch_square_async(4, ) -> None\n",
      "[0.00025749s] fetch_square_async(5, ) -> None\n",
      "[0.00018716s] fetch_square_async(6, ) -> None\n",
      "[0.00017023s] fetch_square_async(7, ) -> None\n",
      "[0.00016737s] fetch_square_async(8, ) -> None\n",
      "[0.00017452s] fetch_square_async(9, ) -> None\n",
      "Total: 0.003279447555541992 sec\n",
      "0\n",
      "436\n",
      "1\n",
      "25\n",
      "49\n",
      "9\n",
      "64\n",
      "81\n",
      "\n",
      "16\n"
     ]
    }
   ],
   "source": [
    "if __name__ == \"__main__\":\n",
    "    t0 = time.time()\n",
    "\n",
    "    returns = [fetch_square_async(i) for i in range(10)]\n",
    "    \n",
    "    elapsed = time.time() - t0\n",
    "    print(\"Total:\", elapsed, \"sec\")"
   ]
  },
  {
   "cell_type": "markdown",
   "metadata": {},
   "source": [
    "## asyncio 프레임워크\n",
    "+ asyncio.get_event_loop() 함수를 호출해 asyncio 루프를 얻을 수 있음\n",
    "+"
   ]
  },
  {
   "cell_type": "code",
   "execution_count": null,
   "metadata": {},
   "outputs": [],
   "source": []
  }
 ],
 "metadata": {
  "kernelspec": {
   "display_name": "Python 3",
   "language": "python",
   "name": "python3"
  },
  "language_info": {
   "codemirror_mode": {
    "name": "ipython",
    "version": 3
   },
   "file_extension": ".py",
   "mimetype": "text/x-python",
   "name": "python",
   "nbconvert_exporter": "python",
   "pygments_lexer": "ipython3",
   "version": "3.7.6"
  }
 },
 "nbformat": 4,
 "nbformat_minor": 4
}
