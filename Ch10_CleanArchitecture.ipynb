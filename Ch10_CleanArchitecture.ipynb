{
 "cells": [
  {
   "cell_type": "markdown",
   "metadata": {},
   "source": [
    "# Clean Architecture"
   ]
  },
  {
   "cell_type": "markdown",
   "metadata": {},
   "source": [
    "## 인상깊은 내용\n",
    "+ 관심사의 분리\n",
    "    + 디자인이란 잘 정의된 하나의 책임을 가지고 독립적으로 분리된 유지보수가 쉬운 디자인을 말한다.\n",
    "    + 이러한 특징들은 함수, 클래스, 메서드와 같은 세부 사항에 적용될 뿐만 아니라 소프트웨어 아키텍처의 컴포넌트에도 동일하게 적용할 수 있다.\n",
    "+ 추상화\n",
    "    + 코드는 그 자체로 문서화가 되는 정도의 표현력을 가져야 한다.\n",
    "    + 의존성 역전 원칙\n",
    "    + ORM API와 애플리케이션 사이에 중간 계층인 어댑터를 만드는 것이 더 좋다.\n",
    "    + 중요한 것은 최대한 기술적 세부사항을 숨기는 것이다.\n",
    "+ 애플리케이션에서 호출하기\n",
    "    + 어떤 프레임워크가 사용되었는지, 데이터가 어디서 왔는지 어느 것도 대답할 수 없다면 좋은 신호이다.\n",
    "    + 웹 프레임워크를 변경할 경우 애플리케이션 전체가 아니라 어댑터만 변경하면 된다.\n",
    "+ 기타\n",
    "    + 모든 함수는 이름만으로 그 의도를 말할 수 있어야 한다.\n",
    "    + 실용성이 이상보다 우선이다."
   ]
  },
  {
   "cell_type": "markdown",
   "metadata": {},
   "source": [
    "## 패키지\n",
    "+ 소프트웨어를 배포하고 보다 일번적인 방식으로 코드를 재사용하기 위한 편리한 방법\n",
    "    + 빌드 패키지는 저장소에 업로드할 수 있으며 다른 아티펙트 저장소(artifact repository)에서 이 패키지를 다운도르할 수도 있음\n",
    "+ setup.py 이 가장 중요한 파일로 프로젝트의 모든 중요한 정의가 지정되어 있음"
   ]
  },
  {
   "cell_type": "markdown",
   "metadata": {},
   "source": [
    "### sample 1\n",
    "```\n",
    "<setup.py>\n",
    "\n",
    "from setuptools import find_packages, setup\n",
    "\n",
    "with open(\"README.rst\", \"r\") as longdesc:\n",
    "    long_description = longdesc.read()\n",
    "\n",
    "\n",
    "install_requires = [\"web\", \"storage\"]\n",
    "\n",
    "setup(\n",
    "    name=\"delistatus\",\n",
    "    description=\"Check the status of a delivery order\",\n",
    "    long_description=long_description,\n",
    "    author=\"Dev team\",\n",
    "    version=\"0.1.0\",\n",
    "    packages=find_packages(), # 현재폴더 기준으로 하위폴더에서 찾는다.\n",
    "    install_requires=install_requires, \n",
    "    entry_points={\n",
    "        \"console_scripts\": [\n",
    "            \"status-service = statusweb.service:main\",\n",
    "        ],\n",
    "    },\n",
    ")\n",
    "\n",
    "```"
   ]
  },
  {
   "cell_type": "markdown",
   "metadata": {},
   "source": [
    "### sample 2 \n",
    "```\n",
    "from setuptools import find_packages, setup\n",
    "\n",
    "with open(\"README.rst\", \"r\") as longdesc:\n",
    "    long_description = longdesc.read()\n",
    "\n",
    "\n",
    "install_requires = [\"sanic\"]\n",
    "\n",
    "setup(\n",
    "    name=\"web\",\n",
    "    description=\"Library with helpers for the web-related functionality\",\n",
    "    long_description=long_description,\n",
    "    author=\"Dev team\",\n",
    "    version=\"0.1.0\",\n",
    "    packages=find_packages(where=\"src/\"), # include all packages under src\n",
    "    package_dir={\"\": \"src\"}, # tell distutils packages are under src\n",
    "    install_requires=install_requires,\n",
    ")\n",
    "```"
   ]
  }
 ],
 "metadata": {
  "kernelspec": {
   "display_name": "Python 3",
   "language": "python",
   "name": "python3"
  },
  "language_info": {
   "codemirror_mode": {
    "name": "ipython",
    "version": 3
   },
   "file_extension": ".py",
   "mimetype": "text/x-python",
   "name": "python",
   "nbconvert_exporter": "python",
   "pygments_lexer": "ipython3",
   "version": "3.7.6"
  }
 },
 "nbformat": 4,
 "nbformat_minor": 4
}
