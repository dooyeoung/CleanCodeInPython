{
 "nbformat": 4,
 "nbformat_minor": 2,
 "metadata": {
  "language_info": {
   "name": "python",
   "codemirror_mode": {
    "name": "ipython",
    "version": 3
   },
   "version": "3.7.5-final"
  },
  "orig_nbformat": 2,
  "file_extension": ".py",
  "mimetype": "text/x-python",
  "name": "python",
  "npconvert_exporter": "python",
  "pygments_lexer": "ipython3",
  "version": 3,
  "kernelspec": {
   "name": "python37564bitcleancodecondac461c7a4e781422ba9e8b2ececa60677",
   "display_name": "Python 3.7.5 64-bit ('cleancode': conda)"
  }
 },
 "cells": [
  {
   "cell_type": "markdown",
   "execution_count": null,
   "metadata": {},
   "outputs": [],
   "source": [
    "# 5. 데코레이터를 활용한 코드 개선\n",
    "+ 데코레이터 패턴과 혼동하지 말 것\n",
    "\n",
    "## 함수 데코레이터"
   ]
  },
  {
   "cell_type": "code",
   "execution_count": 52,
   "metadata": {},
   "outputs": [
    {
     "name": "stdout",
     "output_type": "stream",
     "text": "Completed a function\n"
    }
   ],
   "source": [
    "\"\"\" 도메인의 특정 예외에 대해서 특정 횟수만큼 재시도하는 데코레이터 \"\"\"\n",
    "\n",
    "from functools import wraps\n",
    "from random import randint\n",
    "import logging\n",
    "\n",
    "class ControlledException(Exception):\n",
    "    \"\"\" 일반적인 예외 가정 \"\"\"\n",
    "\n",
    "def retry(operation):\n",
    "    @wraps(operation)\n",
    "    def wrapped(*args, **kargs):\n",
    "        last_raised = None\n",
    "        RETRIES_LIMIT = 3\n",
    "        for i in range(RETRIES_LIMIT):\n",
    "            try:\n",
    "                return operation(*args, **kargs)\n",
    "            except ControlledException as e:\n",
    "                logger.info(\"retrying %s\", operation.__qualname__)\n",
    "                last_raised = e\n",
    "        raise last_raised\n",
    "    return wrapped\n",
    "\n",
    "\n",
    "@retry\n",
    "def run_operation(a:int, b:int):\n",
    "    if randint(a, b) % 2 == 0:\n",
    "        print(\"Completed a function\")\n",
    "    else:\n",
    "        raise ControlledException()\n",
    "\n",
    "if __name__ == \"__main__\":\n",
    "    logger = logging.getLogger('example')\n",
    "    logger.setLevel(logging.DEBUG)\n",
    "    run_operation(0, 9)"
   ]
  },
  {
   "cell_type": "markdown",
   "execution_count": 19,
   "metadata": {},
   "outputs": [
    {
     "data": {
      "text/plain": "'  '"
     },
     "execution_count": 19,
     "metadata": {},
     "output_type": "execute_result"
    }
   ],
   "source": [
    "## 클래스 데코레이터\n",
    "+ 파라미터로 함수가 아닌 클래스를 받는다는 점만 차이점이 있음\n",
    "+ 장점\n",
    "    + 코드 재사용과 DRY 원칙의 모든 이점을 공유할 수 있음\n",
    "    + 당장은 작고 간단한 클래스를 생성하고 나중에 데코레이터로 기능을 보강할 수 있음\n",
    "    + 기존 로직을 쉽게 변경 가능하며, 메타클래스와 같은 방법보다 비교적 간단함"
   ]
  },
  {
   "cell_type": "code",
   "execution_count": 63,
   "metadata": {},
   "outputs": [
    {
     "name": "stdout",
     "output_type": "stream",
     "text": "{'username': 'shyeon', 'password': '****', 'ip': '127.0.0.1'}\n"
    }
   ],
   "source": [
    "\"\"\" 확장에 불리한 구조: 이벤트 클래스와 직렬화 클래스가 1대 1로 매팅됨 \"\"\"\n",
    "\n",
    "class LoginEventSerializer:\n",
    "    def __init__(self, event):\n",
    "        self.event = event\n",
    "\n",
    "    def serialize(self) -> dict:\n",
    "        return {\n",
    "            \"username\": self.event.username,\n",
    "            \"password\": len(self.event.password) * \"*\",\n",
    "            \"ip\": self.event.ip,\n",
    "        }\n",
    "\n",
    "\n",
    "class LoginEvent:\n",
    "    SERIALIZER = LoginEventSerializer\n",
    "\n",
    "    def __init__(self, username, password, ip):\n",
    "        self.username = username\n",
    "        self.password = password\n",
    "        self.ip = ip\n",
    "\n",
    "    def serialize(self) -> dict:\n",
    "        return self.SERIALIZER(self).serialize()\n",
    "\n",
    "\n",
    "if __name__ == \"__main__\":\n",
    "    event = LoginEvent(\"shyeon\", \"0524\", \"127.0.0.1\")\n",
    "    print(event.serialize())"
   ]
  },
  {
   "cell_type": "code",
   "execution_count": 70,
   "metadata": {},
   "outputs": [
    {
     "name": "stdout",
     "output_type": "stream",
     "text": "{'username': 'shyeon', 'password': '****', 'ip': '127.0.0.1', 'timestamp': '2020-02-14 09:00'}\n"
    }
   ],
   "source": [
    "\"\"\" 데코레이션을 활용한 구조 개선 \"\"\"\n",
    "\n",
    "from datetime import datetime\n",
    "\n",
    "def hide_field(field) -> str:\n",
    "    return len(field) * \"*\"\n",
    "\n",
    "def format_time(field_timestamp: datetime) -> str:\n",
    "    return field_timestamp.strftime(\"%Y-%m-%d %H:%M\")\n",
    "\n",
    "def show_original(event_field):\n",
    "    return event_field\n",
    "\n",
    "\n",
    "class EventSerializer:\n",
    "    def __init__(self, serialization_fields: dict) -> None:\n",
    "        self.serialization_fields = serialization_fields\n",
    "\n",
    "    def serialize(self, event) -> dict:\n",
    "        return {\n",
    "            field: transformation(getattr(event, field))\n",
    "            for field, transformation in self.serialization_fields.items()\n",
    "        }\n",
    "\n",
    "\n",
    "class Serialization:\n",
    "    def __init__(self, **transformations):\n",
    "        self.serializer = EventSerializer(transformations)\n",
    "\n",
    "    def __call__(self, event_class):\n",
    "        def serialize_method(event_instance):\n",
    "            return self.serializer.serialize(event_instance)\n",
    "        event_class.serialize = serialize_method\n",
    "        return event_class\n",
    "\n",
    "\n",
    "@Serialization(\n",
    "    username=show_original,\n",
    "    password=hide_field,\n",
    "    ip=show_original,\n",
    "    timestamp=format_time)\n",
    "class LoginEvent:\n",
    "    def __init__(self, username, password, ip, timestamp):\n",
    "        self.username = username\n",
    "        self.password = password\n",
    "        self.ip = ip\n",
    "        self.timestamp = timestamp\n",
    "\n",
    "if __name__ == \"__main__\":\n",
    "    event = LoginEvent(\"shyeon\", \"0524\", \"127.0.0.1\", datetime(2020, 2, 14, 9, 00, 00))\n",
    "    print(event.serialize())"
   ]
  },
  {
   "cell_type": "code",
   "execution_count": null,
   "metadata": {},
   "outputs": [],
   "source": []
  }
 ]
}